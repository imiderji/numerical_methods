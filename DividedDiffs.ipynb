{
  "nbformat": 4,
  "nbformat_minor": 0,
  "metadata": {
    "colab": {
      "provenance": []
    },
    "kernelspec": {
      "name": "python3",
      "display_name": "Python 3"
    },
    "language_info": {
      "name": "python"
    }
  },
  "cells": [
    {
      "cell_type": "code",
      "source": [
        "import numpy as np"
      ],
      "metadata": {
        "id": "SZWkCFxQ1RU0"
      },
      "execution_count": 2,
      "outputs": []
    },
    {
      "cell_type": "code",
      "source": [
        "x = np.array([2,3,4,5], float)\n",
        "func = np.array([7,5,8,7], float)"
      ],
      "metadata": {
        "id": "QCEq06tB-el9"
      },
      "execution_count": 25,
      "outputs": []
    },
    {
      "cell_type": "code",
      "execution_count": 23,
      "metadata": {
        "id": "R-l9J5zut-UX"
      },
      "outputs": [],
      "source": [
        "def divided_differences_coefs(points: list, function_values: list):\n",
        "    x = points\n",
        "    f_values = function_values\n",
        "\n",
        "    n = len(x)\n",
        "    results = np.zeros([n, n+1])\n",
        "\n",
        "    for i in range(n):\n",
        "        results[i, 0] = x[i]\n",
        "        results[i, 1] = f_values[i]\n",
        "\n",
        "    for i in range(2, n+1):\n",
        "        for j in range(n+1-i):\n",
        "            results[j, i] = (results[j+1, i-1] - results[j, i-1]) / (results[j+i-1, 0] - results[j, 0])\n",
        "\n",
        "    return results[0][1:]"
      ]
    },
    {
      "cell_type": "code",
      "source": [
        "print(divided_differences_coefs(x, func))"
      ],
      "metadata": {
        "colab": {
          "base_uri": "https://localhost:8080/"
        },
        "id": "tGylr7CO2ICN",
        "outputId": "bfad3b2b-b6b0-4170-b995-a88d137fd6c5"
      },
      "execution_count": 26,
      "outputs": [
        {
          "output_type": "stream",
          "name": "stdout",
          "text": [
            "[ 7.  -2.   2.5 -1.5]\n"
          ]
        }
      ]
    },
    {
      "cell_type": "code",
      "source": [
        "def newton_polynom(points: list, function_values: list, eval_point: float):\n",
        "    coefs = divided_differences_coefs(points, function_values)\n",
        "\n",
        "    n = len(points) - 1\n",
        "\n",
        "    result = coefs[n]\n",
        "\n",
        "    for i in range(1, n + 1):\n",
        "        result = coefs[n-i] + (eval_point - points[n-i]) * result\n",
        "\n",
        "    return result"
      ],
      "metadata": {
        "id": "UNKCVzaD_NiN"
      },
      "execution_count": 30,
      "outputs": []
    },
    {
      "cell_type": "code",
      "source": [
        "print(newton_polynom(x, func, 2.0))"
      ],
      "metadata": {
        "colab": {
          "base_uri": "https://localhost:8080/"
        },
        "id": "p0zv3rYXArrG",
        "outputId": "4c5a655a-077a-4bac-acca-97c6843d71f9"
      },
      "execution_count": 33,
      "outputs": [
        {
          "output_type": "stream",
          "name": "stdout",
          "text": [
            "7.0\n"
          ]
        }
      ]
    }
  ]
}